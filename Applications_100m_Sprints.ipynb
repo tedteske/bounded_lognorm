{
  "nbformat": 4,
  "nbformat_minor": 0,
  "metadata": {
    "colab": {
      "name": "Applications_100m_Sprints.ipynb",
      "provenance": [],
      "mount_file_id": "18XOt10xDBaE_H1xdzbbvp_hukPyLWZY1",
      "authorship_tag": "ABX9TyOCvLtZiZ+p4DZpKV2XsETS",
      "include_colab_link": true
    },
    "kernelspec": {
      "name": "python3",
      "display_name": "Python 3"
    }
  },
  "cells": [
    {
      "cell_type": "markdown",
      "metadata": {
        "id": "view-in-github",
        "colab_type": "text"
      },
      "source": [
        "<a href=\"https://colab.research.google.com/github/tedteske/bounded_lognorm/blob/master/Applications_100m_Sprints.ipynb\" target=\"_parent\"><img src=\"https://colab.research.google.com/assets/colab-badge.svg\" alt=\"Open In Colab\"/></a>"
      ]
    },
    {
      "cell_type": "code",
      "metadata": {
        "id": "h4uhGmkQZpZL"
      },
      "source": [
        "!cp \"drive/My Drive/Colab Notebooks/bounded lognorm/bounded_lognorm.py\" .\n",
        "from bounded_lognorm import bounded_lognorm\n",
        "\n",
        "from warnings import simplefilter\n",
        "simplefilter(action='ignore', category=FutureWarning)\n",
        "\n",
        "from scipy.stats import norm, truncnorm, lognorm, skew, kurtosis, normaltest\n",
        "import numpy as np\n",
        "import pandas as pd\n",
        "import matplotlib.pyplot as plt\n",
        "import seaborn as sns\n",
        "\n",
        "sns.set(style='darkgrid')\n",
        "plt.rcParams[\"font.family\"] = \"serif\"\n",
        "plt.rcParams[\"figure.figsize\"] = [10, 10/1.6]"
      ],
      "execution_count": null,
      "outputs": []
    },
    {
      "cell_type": "markdown",
      "metadata": {
        "id": "uQckoVP9aMqF"
      },
      "source": [
        "What are the fastest possible 100m sprint times?\n",
        "\n",
        "Let's first load data from the 2004-2016 Olympics. See [here](https://deepblue.lib.umich.edu/data/concern/data_sets/cr56n184r?locale=en) for details on this dataset."
      ]
    },
    {
      "cell_type": "code",
      "metadata": {
        "colab": {
          "base_uri": "https://localhost:8080/",
          "height": 197
        },
        "id": "p8WKhJqEaKyI",
        "outputId": "6092c965-2625-4467-9790-20cc8618cabc"
      },
      "source": [
        "url = 'https://deepblue.lib.umich.edu/data/downloads/qn59q4716?locale=en'\n",
        "sprint_data = pd.read_csv(url, encoding=\"ISO-8859-1\")\n",
        "sprint_data.head()"
      ],
      "execution_count": null,
      "outputs": [
        {
          "output_type": "execute_result",
          "data": {
            "text/html": [
              "<div>\n",
              "<style scoped>\n",
              "    .dataframe tbody tr th:only-of-type {\n",
              "        vertical-align: middle;\n",
              "    }\n",
              "\n",
              "    .dataframe tbody tr th {\n",
              "        vertical-align: top;\n",
              "    }\n",
              "\n",
              "    .dataframe thead th {\n",
              "        text-align: right;\n",
              "    }\n",
              "</style>\n",
              "<table border=\"1\" class=\"dataframe\">\n",
              "  <thead>\n",
              "    <tr style=\"text-align: right;\">\n",
              "      <th></th>\n",
              "      <th>POS</th>\n",
              "      <th>BIB</th>\n",
              "      <th>ATHLETE</th>\n",
              "      <th>COUNTRY</th>\n",
              "      <th>MARK</th>\n",
              "      <th>RxnTime</th>\n",
              "      <th>Race</th>\n",
              "      <th>Round</th>\n",
              "      <th>Gender</th>\n",
              "      <th>Year</th>\n",
              "    </tr>\n",
              "  </thead>\n",
              "  <tbody>\n",
              "    <tr>\n",
              "      <th>0</th>\n",
              "      <td>1.0</td>\n",
              "      <td>NaN</td>\n",
              "      <td>Usain BOLT</td>\n",
              "      <td>JAMJAM</td>\n",
              "      <td>10.20 Q</td>\n",
              "      <td>0.186</td>\n",
              "      <td>100 m</td>\n",
              "      <td>Heats</td>\n",
              "      <td>M</td>\n",
              "      <td>2008</td>\n",
              "    </tr>\n",
              "    <tr>\n",
              "      <th>1</th>\n",
              "      <td>2.0</td>\n",
              "      <td>NaN</td>\n",
              "      <td>Daniel BAILEY</td>\n",
              "      <td>ANTANT</td>\n",
              "      <td>10.24 Q</td>\n",
              "      <td>0.198</td>\n",
              "      <td>100 m</td>\n",
              "      <td>Heats</td>\n",
              "      <td>M</td>\n",
              "      <td>2008</td>\n",
              "    </tr>\n",
              "    <tr>\n",
              "      <th>2</th>\n",
              "      <td>3.0</td>\n",
              "      <td>NaN</td>\n",
              "      <td>Vicente DE LIMA</td>\n",
              "      <td>BRABRA</td>\n",
              "      <td>10.26 Q</td>\n",
              "      <td>0.168</td>\n",
              "      <td>100 m</td>\n",
              "      <td>Heats</td>\n",
              "      <td>M</td>\n",
              "      <td>2008</td>\n",
              "    </tr>\n",
              "    <tr>\n",
              "      <th>3</th>\n",
              "      <td>4.0</td>\n",
              "      <td>NaN</td>\n",
              "      <td>Henry VIZCAÍNO</td>\n",
              "      <td>CUBCUB</td>\n",
              "      <td>10.28 q</td>\n",
              "      <td>0.157</td>\n",
              "      <td>100 m</td>\n",
              "      <td>Heats</td>\n",
              "      <td>M</td>\n",
              "      <td>2008</td>\n",
              "    </tr>\n",
              "    <tr>\n",
              "      <th>4</th>\n",
              "      <td>5.0</td>\n",
              "      <td>NaN</td>\n",
              "      <td>Fabio CERUTTI</td>\n",
              "      <td>ITAITA</td>\n",
              "      <td>10.49</td>\n",
              "      <td>0.136</td>\n",
              "      <td>100 m</td>\n",
              "      <td>Heats</td>\n",
              "      <td>M</td>\n",
              "      <td>2008</td>\n",
              "    </tr>\n",
              "  </tbody>\n",
              "</table>\n",
              "</div>"
            ],
            "text/plain": [
              "   POS  BIB          ATHLETE COUNTRY  ...   Race  Round Gender  Year\n",
              "0  1.0  NaN       Usain BOLT  JAMJAM  ...  100 m  Heats      M  2008\n",
              "1  2.0  NaN    Daniel BAILEY  ANTANT  ...  100 m  Heats      M  2008\n",
              "2  3.0  NaN  Vicente DE LIMA  BRABRA  ...  100 m  Heats      M  2008\n",
              "3  4.0  NaN   Henry VIZCAÍNO  CUBCUB  ...  100 m  Heats      M  2008\n",
              "4  5.0  NaN    Fabio CERUTTI  ITAITA  ...  100 m  Heats      M  2008\n",
              "\n",
              "[5 rows x 10 columns]"
            ]
          },
          "metadata": {
            "tags": []
          },
          "execution_count": 2
        }
      ]
    },
    {
      "cell_type": "markdown",
      "metadata": {
        "id": "zc0kRcevaWlH"
      },
      "source": [
        "Isolate the 100m sprint times, clean up the `MARK` field (time in seconds), and convert to average speed (meters per second). "
      ]
    },
    {
      "cell_type": "code",
      "metadata": {
        "colab": {
          "base_uri": "https://localhost:8080/",
          "height": 197
        },
        "id": "rXCIS24uaTOv",
        "outputId": "fe50ef4f-1b20-45ef-ce31-f79d473c3dab"
      },
      "source": [
        "sprint_data = sprint_data[sprint_data.Race == \"100 m\"]\n",
        "sprint_data['speed'] = sprint_data.MARK.str.split(expand=True)[0]\n",
        "sprint_data['speed'] = pd.to_numeric(sprint_data['speed'],'coerce')\n",
        "sprint_data = sprint_data[sprint_data['speed']>0]\n",
        "sprint_data['speed'] = 100 / sprint_data['speed']\n",
        "sprint_data.head()"
      ],
      "execution_count": null,
      "outputs": [
        {
          "output_type": "execute_result",
          "data": {
            "text/html": [
              "<div>\n",
              "<style scoped>\n",
              "    .dataframe tbody tr th:only-of-type {\n",
              "        vertical-align: middle;\n",
              "    }\n",
              "\n",
              "    .dataframe tbody tr th {\n",
              "        vertical-align: top;\n",
              "    }\n",
              "\n",
              "    .dataframe thead th {\n",
              "        text-align: right;\n",
              "    }\n",
              "</style>\n",
              "<table border=\"1\" class=\"dataframe\">\n",
              "  <thead>\n",
              "    <tr style=\"text-align: right;\">\n",
              "      <th></th>\n",
              "      <th>POS</th>\n",
              "      <th>BIB</th>\n",
              "      <th>ATHLETE</th>\n",
              "      <th>COUNTRY</th>\n",
              "      <th>MARK</th>\n",
              "      <th>RxnTime</th>\n",
              "      <th>Race</th>\n",
              "      <th>Round</th>\n",
              "      <th>Gender</th>\n",
              "      <th>Year</th>\n",
              "      <th>speed</th>\n",
              "    </tr>\n",
              "  </thead>\n",
              "  <tbody>\n",
              "    <tr>\n",
              "      <th>0</th>\n",
              "      <td>1.0</td>\n",
              "      <td>NaN</td>\n",
              "      <td>Usain BOLT</td>\n",
              "      <td>JAMJAM</td>\n",
              "      <td>10.20 Q</td>\n",
              "      <td>0.186</td>\n",
              "      <td>100 m</td>\n",
              "      <td>Heats</td>\n",
              "      <td>M</td>\n",
              "      <td>2008</td>\n",
              "      <td>9.803922</td>\n",
              "    </tr>\n",
              "    <tr>\n",
              "      <th>1</th>\n",
              "      <td>2.0</td>\n",
              "      <td>NaN</td>\n",
              "      <td>Daniel BAILEY</td>\n",
              "      <td>ANTANT</td>\n",
              "      <td>10.24 Q</td>\n",
              "      <td>0.198</td>\n",
              "      <td>100 m</td>\n",
              "      <td>Heats</td>\n",
              "      <td>M</td>\n",
              "      <td>2008</td>\n",
              "      <td>9.765625</td>\n",
              "    </tr>\n",
              "    <tr>\n",
              "      <th>2</th>\n",
              "      <td>3.0</td>\n",
              "      <td>NaN</td>\n",
              "      <td>Vicente DE LIMA</td>\n",
              "      <td>BRABRA</td>\n",
              "      <td>10.26 Q</td>\n",
              "      <td>0.168</td>\n",
              "      <td>100 m</td>\n",
              "      <td>Heats</td>\n",
              "      <td>M</td>\n",
              "      <td>2008</td>\n",
              "      <td>9.746589</td>\n",
              "    </tr>\n",
              "    <tr>\n",
              "      <th>3</th>\n",
              "      <td>4.0</td>\n",
              "      <td>NaN</td>\n",
              "      <td>Henry VIZCAÍNO</td>\n",
              "      <td>CUBCUB</td>\n",
              "      <td>10.28 q</td>\n",
              "      <td>0.157</td>\n",
              "      <td>100 m</td>\n",
              "      <td>Heats</td>\n",
              "      <td>M</td>\n",
              "      <td>2008</td>\n",
              "      <td>9.727626</td>\n",
              "    </tr>\n",
              "    <tr>\n",
              "      <th>4</th>\n",
              "      <td>5.0</td>\n",
              "      <td>NaN</td>\n",
              "      <td>Fabio CERUTTI</td>\n",
              "      <td>ITAITA</td>\n",
              "      <td>10.49</td>\n",
              "      <td>0.136</td>\n",
              "      <td>100 m</td>\n",
              "      <td>Heats</td>\n",
              "      <td>M</td>\n",
              "      <td>2008</td>\n",
              "      <td>9.532888</td>\n",
              "    </tr>\n",
              "  </tbody>\n",
              "</table>\n",
              "</div>"
            ],
            "text/plain": [
              "   POS  BIB          ATHLETE COUNTRY  ...  Round  Gender  Year     speed\n",
              "0  1.0  NaN       Usain BOLT  JAMJAM  ...  Heats       M  2008  9.803922\n",
              "1  2.0  NaN    Daniel BAILEY  ANTANT  ...  Heats       M  2008  9.765625\n",
              "2  3.0  NaN  Vicente DE LIMA  BRABRA  ...  Heats       M  2008  9.746589\n",
              "3  4.0  NaN   Henry VIZCAÍNO  CUBCUB  ...  Heats       M  2008  9.727626\n",
              "4  5.0  NaN    Fabio CERUTTI  ITAITA  ...  Heats       M  2008  9.532888\n",
              "\n",
              "[5 rows x 11 columns]"
            ]
          },
          "metadata": {
            "tags": []
          },
          "execution_count": 3
        }
      ]
    },
    {
      "cell_type": "code",
      "metadata": {
        "colab": {
          "base_uri": "https://localhost:8080/",
          "height": 406
        },
        "id": "ngt-OQseaZGu",
        "outputId": "6f926bda-8223-4a85-9556-d331d4a4c201"
      },
      "source": [
        "speeds_M = sprint_data[sprint_data.Gender == 'M']['speed']\n",
        "shapes, results = bounded_lognorm.fit(speeds_M, MLE=False, verbose=True,\n",
        "                                      flower=0)\n",
        "shapes_rounded = shapes.round(2)\n",
        "label = (    'mode=' + str(shapes_rounded[0]) +\n",
        "          ', sigma=' + str(shapes_rounded[1]) +\n",
        "          ', lower=' + str(shapes_rounded[2]) +\n",
        "          ', upper=' + str(shapes_rounded[3]))\n",
        "xdata = np.linspace(7, 11, len(speeds_M))\n",
        "sns.lineplot(xdata, bounded_lognorm.pdf(xdata, *shapes), label=label)\n",
        "sns.distplot(speeds_M[speeds_M>7], kde=False, norm_hist=True)\n",
        "plt.xlabel(\"Men's 100m Sprints, Average Speeds (m/sec), 2004-2016 Olympics\")\n",
        "plt.legend()\n",
        "plt.show()"
      ],
      "execution_count": null,
      "outputs": [
        {
          "output_type": "display_data",
          "data": {
            "image/png": "[encoded data removed]",
            "text/plain": [
              "<Figure size 720x450 with 1 Axes>"
            ]
          },
          "metadata": {
            "tags": []
          }
        }
      ]
    },
    {
      "cell_type": "markdown",
      "metadata": {
        "id": "QcxHAZShaj4J"
      },
      "source": [
        "Convert the estimated upper bound from average speed (m/sec) to time (sec/100m)."
      ]
    },
    {
      "cell_type": "code",
      "metadata": {
        "colab": {
          "base_uri": "https://localhost:8080/"
        },
        "id": "GG6hFs9lafYv",
        "outputId": "5e373431-6177-4d5f-85fd-49027f1d9e8c"
      },
      "source": [
        "bpt = 100/shapes[-1] \n",
        "bpt.round(2)"
      ],
      "execution_count": null,
      "outputs": [
        {
          "output_type": "execute_result",
          "data": {
            "text/plain": [
              "9.44"
            ]
          },
          "metadata": {
            "tags": []
          },
          "execution_count": 8
        }
      ]
    },
    {
      "cell_type": "markdown",
      "metadata": {
        "id": "c_vigAnKap2X"
      },
      "source": [
        "With a 95% confidence interval of"
      ]
    },
    {
      "cell_type": "code",
      "metadata": {
        "colab": {
          "base_uri": "https://localhost:8080/"
        },
        "id": "dPLtYdqjamC3",
        "outputId": "c48cb616-940a-4115-b891-abd3d6fb4999"
      },
      "source": [
        "stdev = np.sqrt(np.diag(results[1]))[-1]\n",
        "conf_interval = np.array([shapes[-1] + 2 * stdev, \n",
        "                          shapes[-1] - 2 * stdev])\n",
        "(100/conf_interval).round(2)"
      ],
      "execution_count": null,
      "outputs": [
        {
          "output_type": "execute_result",
          "data": {
            "text/plain": [
              "array([9.21, 9.68])"
            ]
          },
          "metadata": {
            "tags": []
          },
          "execution_count": 9
        }
      ]
    },
    {
      "cell_type": "markdown",
      "metadata": {
        "id": "74cR2O61awXs"
      },
      "source": [
        "For comparison, Usain Bolt holds the current record of 9.58 seconds, set at the World Championships in 2009, so outside this sample. The estimates are consistent with anecdotes that Bolt sometimes showboats before the finish line and could have done better had he given 100%. Also you can find another estimate of 9.44 at [this article](https://www.bbc.com/future/article/20120712-will-we-ever-run-100m-in-9-secs)."
      ]
    },
    {
      "cell_type": "code",
      "metadata": {
        "colab": {
          "base_uri": "https://localhost:8080/",
          "height": 406
        },
        "id": "yZA5gdm7a07o",
        "outputId": "81f3a552-a283-464a-9fdc-68bf2d7cdb4e"
      },
      "source": [
        "speeds_W = sprint_data[sprint_data.Gender == 'F']['speed']\n",
        "shapes, results = bounded_lognorm.fit(speeds_W, \n",
        "                                      MLE=False, verbose=True,\n",
        "                                      fmode=speeds_W.mode()[0],\n",
        "                                      flower=0)\n",
        "shapes_rounded = shapes.round(2)\n",
        "label = (    'mode=' + str(shapes_rounded[0]) +\n",
        "          ', sigma=' + str(shapes_rounded[1]) +\n",
        "          ', lower=' + str(shapes_rounded[2]) +\n",
        "          ', upper=' + str(shapes_rounded[3]))\n",
        "xdata = np.linspace(7, 10, len(speeds_W))\n",
        "sns.lineplot(xdata, bounded_lognorm.pdf(xdata, *shapes), label=label)\n",
        "sns.distplot(speeds_W[speeds_W>7], kde=False, norm_hist=True)\n",
        "plt.xlabel(\"Women's 100m Sprints, Average Speeds (m/sec), 2004-2016 Olympics\")\n",
        "plt.legend()\n",
        "plt.show()"
      ],
      "execution_count": null,
      "outputs": [
        {
          "output_type": "display_data",
          "data": {
            "image/png": "[encoded data removed]",
            "text/plain": [
              "<Figure size 720x450 with 1 Axes>"
            ]
          },
          "metadata": {
            "tags": []
          }
        }
      ]
    },
    {
      "cell_type": "markdown",
      "metadata": {
        "id": "nYW6FFOKa9EP"
      },
      "source": [
        "Convert the estimated upper bound from average speed (m/sec) to time (sec/100m)."
      ]
    },
    {
      "cell_type": "code",
      "metadata": {
        "colab": {
          "base_uri": "https://localhost:8080/"
        },
        "id": "ihNU3QLHa6Tf",
        "outputId": "04d529fa-02cd-44f2-80c4-2af3cf278304"
      },
      "source": [
        "bpt = 100/shapes[-1] \n",
        "bpt.round(2)"
      ],
      "execution_count": null,
      "outputs": [
        {
          "output_type": "execute_result",
          "data": {
            "text/plain": [
              "10.34"
            ]
          },
          "metadata": {
            "tags": []
          },
          "execution_count": 11
        }
      ]
    },
    {
      "cell_type": "code",
      "metadata": {
        "colab": {
          "base_uri": "https://localhost:8080/"
        },
        "id": "aU-BKhTMa_oW",
        "outputId": "ad56fa08-5ea5-43fa-c4c5-1f1712b22f11"
      },
      "source": [
        "stdev = np.sqrt(np.diag(results[1]))[-1]\n",
        "conf_interval = np.array([shapes[-1] + 2 * stdev, \n",
        "                          shapes[-1] - 2 * stdev])\n",
        "(100/conf_interval).round(2)"
      ],
      "execution_count": null,
      "outputs": [
        {
          "output_type": "execute_result",
          "data": {
            "text/plain": [
              "array([10.25, 10.43])"
            ]
          },
          "metadata": {
            "tags": []
          },
          "execution_count": 12
        }
      ]
    },
    {
      "cell_type": "markdown",
      "metadata": {
        "id": "zLKKIevZbCnp"
      },
      "source": [
        "For comparison, Florence Griffith-Joyner holds the current record of 10.49 seconds, set in 1988(!), so outside this sample. "
      ]
    },
    {
      "cell_type": "markdown",
      "metadata": {
        "id": "i0BnJl5_bIuQ"
      },
      "source": [
        "But aren't we assuming that the upper bound, which is outside the range of the sample data, is nonetheless inherent in the data?\n",
        "\n",
        "Here is an example of a random sample of 10,000 fictional runners, each having 10 qualities with values ranging from 0 to 1. The sum of the runners' qualities therefore can range from 0 to 10. The perfect runner is a 10 and the perfectly worst runner is a 0"
      ]
    },
    {
      "cell_type": "code",
      "metadata": {
        "colab": {
          "base_uri": "https://localhost:8080/",
          "height": 407
        },
        "id": "EmtoEEu6bB6E",
        "outputId": "3daf23e8-f977-4e7a-b757-e4a233bebc12"
      },
      "source": [
        "runners = np.random.random_sample(size=(10, 10000))\n",
        "runner_sums = runners.sum(axis=0)\n",
        "sns.distplot(runner_sums, kde=False)"
      ],
      "execution_count": null,
      "outputs": [
        {
          "output_type": "execute_result",
          "data": {
            "text/plain": [
              "<matplotlib.axes._subplots.AxesSubplot at 0x7fbbdb004dd8>"
            ]
          },
          "metadata": {
            "tags": []
          },
          "execution_count": 25
        },
        {
          "output_type": "display_data",
          "data": {
            "image/png": "[encoded data removed]",
            "text/plain": [
              "<Figure size 720x450 with 1 Axes>"
            ]
          },
          "metadata": {
            "tags": []
          }
        }
      ]
    },
    {
      "cell_type": "markdown",
      "metadata": {
        "id": "zLJEo-UkbnAZ"
      },
      "source": [
        "Say we don't know the value sum of the perfect runner, but we do of the worst (0). Let's estimate the perfect runner."
      ]
    },
    {
      "cell_type": "code",
      "metadata": {
        "colab": {
          "base_uri": "https://localhost:8080/"
        },
        "id": "nprGESFUbkAq",
        "outputId": "6f06f1ef-7877-4b2c-e986-1a2dc6f7e1ae"
      },
      "source": [
        "shapes, results = bounded_lognorm.fit(runner_sums, \n",
        "                                      MLE=False, verbose=True,\n",
        "                                      flower=0)\n",
        "upper_estd = shapes[-1]\n",
        "print(\"The best possible runner, estimated:\", upper_estd.round(2))"
      ],
      "execution_count": null,
      "outputs": [
        {
          "output_type": "stream",
          "text": [
            "The best possible runner, estimated: 10.1\n"
          ],
          "name": "stdout"
        }
      ]
    },
    {
      "cell_type": "code",
      "metadata": {
        "colab": {
          "base_uri": "https://localhost:8080/"
        },
        "id": "a9i9n17Mbyng",
        "outputId": "fd2aec5c-b64a-4454-bb59-f1b0abcbd743"
      },
      "source": [
        "stdev = np.sqrt(np.diag(results[1]))[-1]\n",
        "conf_interval = np.array([upper_estd - 2 * stdev, upper_estd + 2 * stdev])\n",
        "print(\"with a ~95% confidence interval of\", conf_interval.round(2))"
      ],
      "execution_count": null,
      "outputs": [
        {
          "output_type": "stream",
          "text": [
            "with a ~95% confidence interval of [10.07 10.13]\n"
          ],
          "name": "stdout"
        }
      ]
    },
    {
      "cell_type": "markdown",
      "metadata": {
        "id": "LSbrSZlnb6hX"
      },
      "source": [
        "These are much closer to the theoretically perfect runner (with value sum = 10) than the best from the sample."
      ]
    },
    {
      "cell_type": "code",
      "metadata": {
        "colab": {
          "base_uri": "https://localhost:8080/"
        },
        "id": "S1hB_Q_pb04I",
        "outputId": "c8040fcf-55a9-4c3f-b9a0-99c606f8ee7e"
      },
      "source": [
        "print(\"The best runner in the sample:\", max(runner_sums).round(2))"
      ],
      "execution_count": null,
      "outputs": [
        {
          "output_type": "stream",
          "text": [
            "The best runner in the sample: 8.04\n"
          ],
          "name": "stdout"
        }
      ]
    }
  ]
}